{
 "cells": [
  {
   "cell_type": "code",
   "execution_count": 2,
   "metadata": {
    "collapsed": false
   },
   "outputs": [],
   "source": [
    "import os\n",
    "from pyspark.mllib.recommendation import ALS"
   ]
  },
  {
   "cell_type": "code",
   "execution_count": 27,
   "metadata": {
    "collapsed": true
   },
   "outputs": [],
   "source": [
    "import logging\n",
    "logging.basicConfig(level=logging.INFO)\n",
    "logger=logging.getLogger(__name__)\n",
    "\n",
    "def get_counts_and_averages(movie_tuple):\n",
    "    nratings=len(movie_tuple[1])\n",
    "    return (movie_tuple[0],nratings)"
   ]
  },
  {
   "cell_type": "code",
   "execution_count": 42,
   "metadata": {
    "collapsed": false
   },
   "outputs": [],
   "source": [
    "class RecommendationEngine:\n",
    "    \"\"\" movie recommendation engine\"\"\"\n",
    "    def __count_and_average_ratings(self):\n",
    "        logger.info(\"counting movie ratings...\")\n",
    "        movie_ID_with_ratings_RDD=self.ratings_RDD.map(lambda x: (int(x[1]),float(x[2]))).groupByKey()\n",
    "        movie_ID_with_average_ratings_RDD=movie_ID_with_ratings_RDD.map(get_counts_and_averages)\n",
    "        self.movies_ratings_counts_RDD=movie_ID_with_average_ratings_RDD.map(lambda x: (x[0],x[1][0]))\n",
    "        \n",
    "    def __train_model(self):\n",
    "        \"\"\"train ALS model with current dataset\n",
    "        \"\"\"\n",
    "        logger.info(\"training the ALS model...\")\n",
    "        self.model=ALS.train(self.ratings_RDD,self.rank,seed=self.seed,iterations=self.iterations,lambda_=self.regularization)\n",
    "        logger.info(\"Model built!\")\n",
    "        \n",
    "    def __init__(self, sc, dataset_path):\n",
    "        \"\"\"Init the recommendation engine given dataset path and spark context\n",
    "        \"\"\"\n",
    "        logger.info(\"Starting recommender engine...\")\n",
    "        self.sc=sc\n",
    "        \n",
    "        #load ratings data for future use\n",
    "        logger.info(\"loading ratings data...\")\n",
    "        ratings_file_path=os.path.join(dataset_path,'ratings.csv')\n",
    "        ratings_raw_RDD=sc.textFile(ratings_file_path)\n",
    "        ratings_raw_data_header=ratings_raw_RDD.take(1)[0]\n",
    "        self.ratings_RDD=ratings_raw_RDD.filter(lambda line: line!=ratings_raw_data_header).map(lambda line: line.split(',')).map(lambda tokens: (int(tokens[0]),int(tokens[1]),float(tokens[2]))).cache()\n",
    "        \n",
    "        \n",
    "        #load movies data for later use\n",
    "        logger.info(\"Loading movies data...\")\n",
    "        movies_file_path=os.path.join(dataset_path,'movies.csv')\n",
    "        movies_raw_RDD=sc.textFile(movies_file_path)\n",
    "        movies_header=movies_raw_RDD.take(1)[0]\n",
    "        self.movies_RDD=movies_raw_RDD.filter(lambda line: line!=movies_header).map(lambda line: line.split(',')).map(lambda tokens: (int(tokens[0]),tokens[1],tokens[2])).cache()\n",
    "        self.movies_titles_RDD=self.movies_RDD.map(lambda tokens: (int(tokens[0]),tokens[1])).cache()\n",
    "        \n",
    "        \n",
    "        #pre-calculate movies ratings counts\n",
    "        self.__count_and_average_ratings()\n",
    "        \n",
    "        \n",
    "        #train the model\n",
    "        self.rank=8\n",
    "        self.seed=5\n",
    "        self.regularization=0.1\n",
    "        self.iterations=5\n",
    "        self.__train_model()\n",
    "        \n",
    "        \n",
    "        \n",
    "                                                                        "
   ]
  },
  {
   "cell_type": "code",
   "execution_count": 43,
   "metadata": {
    "collapsed": true
   },
   "outputs": [],
   "source": [
    "def add_ratings(self, ratings):\n",
    "    \"\"\"add additional movie ratings in format (user_id, movie_id, rating)\n",
    "    \"\"\"\n",
    "    \n",
    "    #convert new ratings to RDD\n",
    "    new_ratings_RDD=self.sc.parallelize(ratings)\n",
    "    \n",
    "    # add to existing ratings\n",
    "    self.ratings_RDD=self.ratings_RDD.union(new_ratings_RDD)\n",
    "    \n",
    "    #recompute movie ratings count\n",
    "    self.__count_and_average_ratings()\n",
    "    \n",
    "    #re-train ALS model with new ratings\n",
    "    self.__train_model()\n",
    "    return ratings\n",
    "\n",
    "#attach this function to a class method\n",
    "RecommendationEngine.add_ratings=add_ratings"
   ]
  },
  {
   "cell_type": "code",
   "execution_count": 44,
   "metadata": {
    "collapsed": true
   },
   "outputs": [],
   "source": [
    "def __predict_ratings(self, user_and_movie_RDD):\n",
    "    \"\"\"Gets predictions for (userID, movieID)\n",
    "    \"\"\"\n",
    "    predicted_RDD=self.model.predictAll(user_and_movie_RDD)\n",
    "    predicted_rating_RDD=predicted_RDD.map(lambda x:(x.product, x.rating))\n",
    "    predicted_rating_title_and_count_RDD=predicted_rating_RDD.join(self.movies_titles_RDD).join(self.movies_rating_counts_RDD)\n",
    "    predicted_rating_title_and_count_RDD=predicted_rating_title_and_count_RDD.map(lambda r: (r[1][0][1],r[1][0][0], r[1][1]))\n",
    "    return predicted_rating_title_and_count_RDD\n",
    "\n",
    "def get_top_ratings(self, user_id, movies_count):\n",
    "    \"\"\"Recommends top movies_count predicted movies unrated by user_id\n",
    "    \"\"\"\n",
    "    #get pairs of (userID, moviesID) for user_id unrated movies\n",
    "    user_unrated_movies_RDD=self.ratings_RDD.filter(lambda rating: not rating[0]==user_id ).map(lambda x: (user_id, x[1])).distinct()\n",
    "    ratings=self.__predict_ratings(user_unrated_movies_RDD).filter(lambda r: r[2]>=25).takeOrdered(movies_count, key=lambda x: -x[1])\n",
    "    return ratings\n",
    "\n",
    "RecommendationEngine.__predict_ratings=__predict_ratings\n",
    "RecommendationEngine.get_top_ratings=get_top_ratings\n",
    "    \n",
    "    \n",
    "    \n",
    "    # get unpredicted ratings\n",
    "    "
   ]
  },
  {
   "cell_type": "code",
   "execution_count": 45,
   "metadata": {
    "collapsed": true
   },
   "outputs": [],
   "source": [
    "def get_ratings_for_movie_ids(self,user_id,movie_ids):\n",
    "    \"\"\"predict ratings of movie ids for user id\n",
    "    \"\"\"\n",
    "    requested_movies_RDD=self.sc.parallelize(movie_ids).map(lambda x: (user_id, x))\n",
    "    \n",
    "    #get predicted ratings\n",
    "    ratings=self.__predict_ratings(requested_movies_RDD).collect()\n",
    "    return ratings\n",
    "\n",
    "#attach function to class method\n",
    "RecommendationEngine.get_ratings_for_movie_ids=get_ratings_for_movie_ids\n",
    "    "
   ]
  },
  {
   "cell_type": "code",
   "execution_count": 46,
   "metadata": {
    "collapsed": false
   },
   "outputs": [],
   "source": [
    "#flask webapp\n",
    "\n",
    "from flask import Blueprint\n",
    "main=Blueprint('main',__name__)\n",
    "\n",
    "import json\n",
    "#import RecommendationEngine"
   ]
  },
  {
   "cell_type": "code",
   "execution_count": 47,
   "metadata": {
    "collapsed": true
   },
   "outputs": [],
   "source": [
    "import logging\n",
    "logging.basicConfig(level=logging.INFO)\n",
    "logger=logging.getLogger(__name__)\n",
    "\n",
    "\n"
   ]
  },
  {
   "cell_type": "code",
   "execution_count": 48,
   "metadata": {
    "collapsed": true
   },
   "outputs": [],
   "source": [
    "from flask import Flask, Request"
   ]
  },
  {
   "cell_type": "code",
   "execution_count": 49,
   "metadata": {
    "collapsed": false
   },
   "outputs": [],
   "source": [
    "@main.route(\"/<int:user_id>/ratings/top/<int:count>\",methods=[\"GET\"])\n",
    "def top_ratings(user_id, count):\n",
    "    logger.debug(\"User %s requested %s ratings\",(user_id,count))\n",
    "    top_ratings=recommendation_engine.get_top_ratings(user_id, count)\n",
    "    return json.dumps(top_ratings)\n",
    "\n",
    "@main.route(\"/<int:user_id>/ratings/<int:movie_id>\", methods=[\"GET\"])\n",
    "def movie_ratings(user_id, movie_id):\n",
    "    logger.debug(\"%s requested rating for %s\",(user_id, movie_id))\n",
    "    ratings=recommendation_engine.get_ratings_for_movie_ids(user_id, [movie_id])\n",
    "    return json.dumps(ratings)\n",
    "\n",
    "@main.route(\"/<int:user_id>/ratings\",methods=[\"POST\"])\n",
    "def add_ratings(user_id):\n",
    "    #get ratings from FLASK POST object\n",
    "    ratings_list=request.form.keys()[0].strip().split(\"\\n\")\n",
    "    ratings_list=map(lambda x: x.split(\",\"), ratings_list)\n",
    "    #create list of (user_id, movie_id, rating)\n",
    "    ratings=map(lambda x: (user_id, int(x[0]), float(x[1])), ratings_list)\n",
    "    recommendation_engine.add_ratings(ratings)\n",
    "    return json.dumps(ratings)\n",
    "\n",
    "def create_app(spark_context, dataset_path):\n",
    "    global recommendation_engine\n",
    "    recommendation_engine=RecommendationEngine(spark_context, dataset_path)\n",
    "    \n",
    "    app=Flask(__name__)\n",
    "    app.register_blueprint(main)\n",
    "    return app\n",
    "    "
   ]
  },
  {
   "cell_type": "code",
   "execution_count": 50,
   "metadata": {
    "collapsed": true
   },
   "outputs": [],
   "source": [
    "#The final cherrypy server for running the app\n",
    "import sys, time, cherrypy, os\n",
    "                        "
   ]
  },
  {
   "cell_type": "code",
   "execution_count": 37,
   "metadata": {
    "collapsed": false
   },
   "outputs": [
    {
     "ename": "ImportError",
     "evalue": "No module named paste.translogger",
     "output_type": "error",
     "traceback": [
      "\u001b[0;31m---------------------------------------------------------------\u001b[0m",
      "\u001b[0;31mImportError\u001b[0m                   Traceback (most recent call last)",
      "\u001b[0;32m<ipython-input-37-dc9bdb137b9e>\u001b[0m in \u001b[0;36m<module>\u001b[0;34m()\u001b[0m\n\u001b[0;32m----> 1\u001b[0;31m \u001b[0;32mfrom\u001b[0m \u001b[0mpaste\u001b[0m\u001b[0;34m.\u001b[0m\u001b[0mtranslogger\u001b[0m \u001b[0;32mimport\u001b[0m \u001b[0mTransLogger\u001b[0m\u001b[0;34m\u001b[0m\u001b[0m\n\u001b[0m",
      "\u001b[0;31mImportError\u001b[0m: No module named paste.translogger"
     ]
    }
   ],
   "source": [
    "from paste.translogger import TransLogger"
   ]
  },
  {
   "cell_type": "code",
   "execution_count": 38,
   "metadata": {
    "collapsed": false
   },
   "outputs": [
    {
     "ename": "ImportError",
     "evalue": "No module named app",
     "output_type": "error",
     "traceback": [
      "\u001b[0;31m---------------------------------------------------------------\u001b[0m",
      "\u001b[0;31mImportError\u001b[0m                   Traceback (most recent call last)",
      "\u001b[0;32m<ipython-input-38-663b379c202f>\u001b[0m in \u001b[0;36m<module>\u001b[0;34m()\u001b[0m\n\u001b[0;32m----> 1\u001b[0;31m \u001b[0;32mfrom\u001b[0m \u001b[0mapp\u001b[0m \u001b[0;32mimport\u001b[0m \u001b[0mcreate_app\u001b[0m\u001b[0;34m\u001b[0m\u001b[0m\n\u001b[0m",
      "\u001b[0;31mImportError\u001b[0m: No module named app"
     ]
    }
   ],
   "source": [
    "from app import create_app"
   ]
  },
  {
   "cell_type": "code",
   "execution_count": 51,
   "metadata": {
    "collapsed": true
   },
   "outputs": [],
   "source": [
    "def init_spark_context():\n",
    "    return sc"
   ]
  },
  {
   "cell_type": "code",
   "execution_count": 52,
   "metadata": {
    "collapsed": true
   },
   "outputs": [],
   "source": [
    "def run_server(app):\n",
    "    app_logged=TransLogger(app)\n",
    "    cherrypy.tree.graft(app_logged,\"/\")\n",
    "    cherrypy.config.update({\n",
    "            'engine.autoreload.on':True,\n",
    "            'log.screen':True,\n",
    "            'server.socket_port':5432,\n",
    "            'server.socket_host':'0.0.0.0'\n",
    "        })\n",
    "    cherrypy.engine.start()\n",
    "    cherrypy.engine.block()"
   ]
  },
  {
   "cell_type": "code",
   "execution_count": 53,
   "metadata": {
    "collapsed": false
   },
   "outputs": [
    {
     "name": "stderr",
     "output_type": "stream",
     "text": [
      "INFO:__main__:Starting recommender engine...\n",
      "INFO:__main__:loading ratings data...\n",
      "INFO:__main__:Loading movies data...\n",
      "INFO:__main__:counting movie ratings...\n",
      "INFO:__main__:training the ALS model...\n",
      "INFO:__main__:Model built!\n"
     ]
    },
    {
     "ename": "ValueError",
     "evalue": "malformed url rule: '/<int: user_id>/ratings/<int: movie_id>'",
     "output_type": "error",
     "traceback": [
      "\u001b[0;31m---------------------------------------------------------------\u001b[0m",
      "\u001b[0;31mValueError\u001b[0m                    Traceback (most recent call last)",
      "\u001b[0;32m<ipython-input-53-ffee2dc425d0>\u001b[0m in \u001b[0;36m<module>\u001b[0;34m()\u001b[0m\n\u001b[1;32m      1\u001b[0m \u001b[0;32mif\u001b[0m \u001b[0m__name__\u001b[0m\u001b[0;34m==\u001b[0m\u001b[0;34m\"__main__\"\u001b[0m\u001b[0;34m:\u001b[0m\u001b[0;34m\u001b[0m\u001b[0m\n\u001b[1;32m      2\u001b[0m     \u001b[0mdataset_path\u001b[0m\u001b[0;34m=\u001b[0m\u001b[0;34m'/user/hduser/ml-latest'\u001b[0m\u001b[0;34m\u001b[0m\u001b[0m\n\u001b[0;32m----> 3\u001b[0;31m     \u001b[0mapp\u001b[0m\u001b[0;34m=\u001b[0m\u001b[0mcreate_app\u001b[0m\u001b[0;34m(\u001b[0m\u001b[0msc\u001b[0m\u001b[0;34m,\u001b[0m \u001b[0mdataset_path\u001b[0m\u001b[0;34m)\u001b[0m\u001b[0;34m\u001b[0m\u001b[0m\n\u001b[0m\u001b[1;32m      4\u001b[0m     \u001b[0;31m#start webserver\u001b[0m\u001b[0;34m\u001b[0m\u001b[0;34m\u001b[0m\u001b[0m\n\u001b[1;32m      5\u001b[0m     \u001b[0mrun_server\u001b[0m\u001b[0;34m(\u001b[0m\u001b[0mapp\u001b[0m\u001b[0;34m)\u001b[0m\u001b[0;34m\u001b[0m\u001b[0m\n",
      "\u001b[0;32m<ipython-input-49-1d399e201da1>\u001b[0m in \u001b[0;36mcreate_app\u001b[0;34m(spark_context, dataset_path)\u001b[0m\n\u001b[1;32m     26\u001b[0m \u001b[0;34m\u001b[0m\u001b[0m\n\u001b[1;32m     27\u001b[0m     \u001b[0mapp\u001b[0m\u001b[0;34m=\u001b[0m\u001b[0mFlask\u001b[0m\u001b[0;34m(\u001b[0m\u001b[0m__name__\u001b[0m\u001b[0;34m)\u001b[0m\u001b[0;34m\u001b[0m\u001b[0m\n\u001b[0;32m---> 28\u001b[0;31m     \u001b[0mapp\u001b[0m\u001b[0;34m.\u001b[0m\u001b[0mregister_blueprint\u001b[0m\u001b[0;34m(\u001b[0m\u001b[0mmain\u001b[0m\u001b[0;34m)\u001b[0m\u001b[0;34m\u001b[0m\u001b[0m\n\u001b[0m\u001b[1;32m     29\u001b[0m     \u001b[0;32mreturn\u001b[0m \u001b[0mapp\u001b[0m\u001b[0;34m\u001b[0m\u001b[0m\n\u001b[1;32m     30\u001b[0m \u001b[0;34m\u001b[0m\u001b[0m\n",
      "\u001b[0;32m/home/hduser/anaconda/lib/python2.7/site-packages/flask/app.pyc\u001b[0m in \u001b[0;36mwrapper_func\u001b[0;34m(self, *args, **kwargs)\u001b[0m\n\u001b[1;32m     62\u001b[0m                 \u001b[0;34m'database models and everything related at a central place '\u001b[0m\u001b[0;34m\u001b[0m\u001b[0m\n\u001b[1;32m     63\u001b[0m                 'before the application starts serving requests.')\n\u001b[0;32m---> 64\u001b[0;31m         \u001b[0;32mreturn\u001b[0m \u001b[0mf\u001b[0m\u001b[0;34m(\u001b[0m\u001b[0mself\u001b[0m\u001b[0;34m,\u001b[0m \u001b[0;34m*\u001b[0m\u001b[0margs\u001b[0m\u001b[0;34m,\u001b[0m \u001b[0;34m**\u001b[0m\u001b[0mkwargs\u001b[0m\u001b[0;34m)\u001b[0m\u001b[0;34m\u001b[0m\u001b[0m\n\u001b[0m\u001b[1;32m     65\u001b[0m     \u001b[0;32mreturn\u001b[0m \u001b[0mupdate_wrapper\u001b[0m\u001b[0;34m(\u001b[0m\u001b[0mwrapper_func\u001b[0m\u001b[0;34m,\u001b[0m \u001b[0mf\u001b[0m\u001b[0;34m)\u001b[0m\u001b[0;34m\u001b[0m\u001b[0m\n\u001b[1;32m     66\u001b[0m \u001b[0;34m\u001b[0m\u001b[0m\n",
      "\u001b[0;32m/home/hduser/anaconda/lib/python2.7/site-packages/flask/app.pyc\u001b[0m in \u001b[0;36mregister_blueprint\u001b[0;34m(self, blueprint, **options)\u001b[0m\n\u001b[1;32m    949\u001b[0m             \u001b[0mself\u001b[0m\u001b[0;34m.\u001b[0m\u001b[0m_blueprint_order\u001b[0m\u001b[0;34m.\u001b[0m\u001b[0mappend\u001b[0m\u001b[0;34m(\u001b[0m\u001b[0mblueprint\u001b[0m\u001b[0;34m)\u001b[0m\u001b[0;34m\u001b[0m\u001b[0m\n\u001b[1;32m    950\u001b[0m             \u001b[0mfirst_registration\u001b[0m \u001b[0;34m=\u001b[0m \u001b[0mTrue\u001b[0m\u001b[0;34m\u001b[0m\u001b[0m\n\u001b[0;32m--> 951\u001b[0;31m         \u001b[0mblueprint\u001b[0m\u001b[0;34m.\u001b[0m\u001b[0mregister\u001b[0m\u001b[0;34m(\u001b[0m\u001b[0mself\u001b[0m\u001b[0;34m,\u001b[0m \u001b[0moptions\u001b[0m\u001b[0;34m,\u001b[0m \u001b[0mfirst_registration\u001b[0m\u001b[0;34m)\u001b[0m\u001b[0;34m\u001b[0m\u001b[0m\n\u001b[0m\u001b[1;32m    952\u001b[0m \u001b[0;34m\u001b[0m\u001b[0m\n\u001b[1;32m    953\u001b[0m     \u001b[0;32mdef\u001b[0m \u001b[0miter_blueprints\u001b[0m\u001b[0;34m(\u001b[0m\u001b[0mself\u001b[0m\u001b[0;34m)\u001b[0m\u001b[0;34m:\u001b[0m\u001b[0;34m\u001b[0m\u001b[0m\n",
      "\u001b[0;32m/home/hduser/anaconda/lib/python2.7/site-packages/flask/blueprints.pyc\u001b[0m in \u001b[0;36mregister\u001b[0;34m(self, app, options, first_registration)\u001b[0m\n\u001b[1;32m    152\u001b[0m \u001b[0;34m\u001b[0m\u001b[0m\n\u001b[1;32m    153\u001b[0m         \u001b[0;32mfor\u001b[0m \u001b[0mdeferred\u001b[0m \u001b[0;32min\u001b[0m \u001b[0mself\u001b[0m\u001b[0;34m.\u001b[0m\u001b[0mdeferred_functions\u001b[0m\u001b[0;34m:\u001b[0m\u001b[0;34m\u001b[0m\u001b[0m\n\u001b[0;32m--> 154\u001b[0;31m             \u001b[0mdeferred\u001b[0m\u001b[0;34m(\u001b[0m\u001b[0mstate\u001b[0m\u001b[0;34m)\u001b[0m\u001b[0;34m\u001b[0m\u001b[0m\n\u001b[0m\u001b[1;32m    155\u001b[0m \u001b[0;34m\u001b[0m\u001b[0m\n\u001b[1;32m    156\u001b[0m     \u001b[0;32mdef\u001b[0m \u001b[0mroute\u001b[0m\u001b[0;34m(\u001b[0m\u001b[0mself\u001b[0m\u001b[0;34m,\u001b[0m \u001b[0mrule\u001b[0m\u001b[0;34m,\u001b[0m \u001b[0;34m**\u001b[0m\u001b[0moptions\u001b[0m\u001b[0;34m)\u001b[0m\u001b[0;34m:\u001b[0m\u001b[0;34m\u001b[0m\u001b[0m\n",
      "\u001b[0;32m/home/hduser/anaconda/lib/python2.7/site-packages/flask/blueprints.pyc\u001b[0m in \u001b[0;36m<lambda>\u001b[0;34m(s)\u001b[0m\n\u001b[1;32m    171\u001b[0m             \u001b[0;32massert\u001b[0m \u001b[0;34m'.'\u001b[0m \u001b[0;32mnot\u001b[0m \u001b[0;32min\u001b[0m \u001b[0mendpoint\u001b[0m\u001b[0;34m,\u001b[0m \u001b[0;34m\"Blueprint endpoints should not contain dots\"\u001b[0m\u001b[0;34m\u001b[0m\u001b[0m\n\u001b[1;32m    172\u001b[0m         self.record(lambda s:\n\u001b[0;32m--> 173\u001b[0;31m             s.add_url_rule(rule, endpoint, view_func, **options))\n\u001b[0m\u001b[1;32m    174\u001b[0m \u001b[0;34m\u001b[0m\u001b[0m\n\u001b[1;32m    175\u001b[0m     \u001b[0;32mdef\u001b[0m \u001b[0mendpoint\u001b[0m\u001b[0;34m(\u001b[0m\u001b[0mself\u001b[0m\u001b[0;34m,\u001b[0m \u001b[0mendpoint\u001b[0m\u001b[0;34m)\u001b[0m\u001b[0;34m:\u001b[0m\u001b[0;34m\u001b[0m\u001b[0m\n",
      "\u001b[0;32m/home/hduser/anaconda/lib/python2.7/site-packages/flask/blueprints.pyc\u001b[0m in \u001b[0;36madd_url_rule\u001b[0;34m(self, rule, endpoint, view_func, **options)\u001b[0m\n\u001b[1;32m     74\u001b[0m             \u001b[0mdefaults\u001b[0m \u001b[0;34m=\u001b[0m \u001b[0mdict\u001b[0m\u001b[0;34m(\u001b[0m\u001b[0mdefaults\u001b[0m\u001b[0;34m,\u001b[0m \u001b[0;34m**\u001b[0m\u001b[0moptions\u001b[0m\u001b[0;34m.\u001b[0m\u001b[0mpop\u001b[0m\u001b[0;34m(\u001b[0m\u001b[0;34m'defaults'\u001b[0m\u001b[0;34m)\u001b[0m\u001b[0;34m)\u001b[0m\u001b[0;34m\u001b[0m\u001b[0m\n\u001b[1;32m     75\u001b[0m         self.app.add_url_rule(rule, '%s.%s' % (self.blueprint.name, endpoint),\n\u001b[0;32m---> 76\u001b[0;31m                               view_func, defaults=defaults, **options)\n\u001b[0m\u001b[1;32m     77\u001b[0m \u001b[0;34m\u001b[0m\u001b[0m\n\u001b[1;32m     78\u001b[0m \u001b[0;34m\u001b[0m\u001b[0m\n",
      "\u001b[0;32m/home/hduser/anaconda/lib/python2.7/site-packages/flask/app.pyc\u001b[0m in \u001b[0;36mwrapper_func\u001b[0;34m(self, *args, **kwargs)\u001b[0m\n\u001b[1;32m     62\u001b[0m                 \u001b[0;34m'database models and everything related at a central place '\u001b[0m\u001b[0;34m\u001b[0m\u001b[0m\n\u001b[1;32m     63\u001b[0m                 'before the application starts serving requests.')\n\u001b[0;32m---> 64\u001b[0;31m         \u001b[0;32mreturn\u001b[0m \u001b[0mf\u001b[0m\u001b[0;34m(\u001b[0m\u001b[0mself\u001b[0m\u001b[0;34m,\u001b[0m \u001b[0;34m*\u001b[0m\u001b[0margs\u001b[0m\u001b[0;34m,\u001b[0m \u001b[0;34m**\u001b[0m\u001b[0mkwargs\u001b[0m\u001b[0;34m)\u001b[0m\u001b[0;34m\u001b[0m\u001b[0m\n\u001b[0m\u001b[1;32m     65\u001b[0m     \u001b[0;32mreturn\u001b[0m \u001b[0mupdate_wrapper\u001b[0m\u001b[0;34m(\u001b[0m\u001b[0mwrapper_func\u001b[0m\u001b[0;34m,\u001b[0m \u001b[0mf\u001b[0m\u001b[0;34m)\u001b[0m\u001b[0;34m\u001b[0m\u001b[0m\n\u001b[1;32m     66\u001b[0m \u001b[0;34m\u001b[0m\u001b[0m\n",
      "\u001b[0;32m/home/hduser/anaconda/lib/python2.7/site-packages/flask/app.pyc\u001b[0m in \u001b[0;36madd_url_rule\u001b[0;34m(self, rule, endpoint, view_func, **options)\u001b[0m\n\u001b[1;32m   1044\u001b[0m         \u001b[0mrule\u001b[0m\u001b[0;34m.\u001b[0m\u001b[0mprovide_automatic_options\u001b[0m \u001b[0;34m=\u001b[0m \u001b[0mprovide_automatic_options\u001b[0m\u001b[0;34m\u001b[0m\u001b[0m\n\u001b[1;32m   1045\u001b[0m \u001b[0;34m\u001b[0m\u001b[0m\n\u001b[0;32m-> 1046\u001b[0;31m         \u001b[0mself\u001b[0m\u001b[0;34m.\u001b[0m\u001b[0murl_map\u001b[0m\u001b[0;34m.\u001b[0m\u001b[0madd\u001b[0m\u001b[0;34m(\u001b[0m\u001b[0mrule\u001b[0m\u001b[0;34m)\u001b[0m\u001b[0;34m\u001b[0m\u001b[0m\n\u001b[0m\u001b[1;32m   1047\u001b[0m         \u001b[0;32mif\u001b[0m \u001b[0mview_func\u001b[0m \u001b[0;32mis\u001b[0m \u001b[0;32mnot\u001b[0m \u001b[0mNone\u001b[0m\u001b[0;34m:\u001b[0m\u001b[0;34m\u001b[0m\u001b[0m\n\u001b[1;32m   1048\u001b[0m             \u001b[0mold_func\u001b[0m \u001b[0;34m=\u001b[0m \u001b[0mself\u001b[0m\u001b[0;34m.\u001b[0m\u001b[0mview_functions\u001b[0m\u001b[0;34m.\u001b[0m\u001b[0mget\u001b[0m\u001b[0;34m(\u001b[0m\u001b[0mendpoint\u001b[0m\u001b[0;34m)\u001b[0m\u001b[0;34m\u001b[0m\u001b[0m\n",
      "\u001b[0;32m/home/hduser/anaconda/lib/python2.7/site-packages/werkzeug/routing.pyc\u001b[0m in \u001b[0;36madd\u001b[0;34m(self, rulefactory)\u001b[0m\n\u001b[1;32m   1195\u001b[0m         \"\"\"\n\u001b[1;32m   1196\u001b[0m         \u001b[0;32mfor\u001b[0m \u001b[0mrule\u001b[0m \u001b[0;32min\u001b[0m \u001b[0mrulefactory\u001b[0m\u001b[0;34m.\u001b[0m\u001b[0mget_rules\u001b[0m\u001b[0;34m(\u001b[0m\u001b[0mself\u001b[0m\u001b[0;34m)\u001b[0m\u001b[0;34m:\u001b[0m\u001b[0;34m\u001b[0m\u001b[0m\n\u001b[0;32m-> 1197\u001b[0;31m             \u001b[0mrule\u001b[0m\u001b[0;34m.\u001b[0m\u001b[0mbind\u001b[0m\u001b[0;34m(\u001b[0m\u001b[0mself\u001b[0m\u001b[0;34m)\u001b[0m\u001b[0;34m\u001b[0m\u001b[0m\n\u001b[0m\u001b[1;32m   1198\u001b[0m             \u001b[0mself\u001b[0m\u001b[0;34m.\u001b[0m\u001b[0m_rules\u001b[0m\u001b[0;34m.\u001b[0m\u001b[0mappend\u001b[0m\u001b[0;34m(\u001b[0m\u001b[0mrule\u001b[0m\u001b[0;34m)\u001b[0m\u001b[0;34m\u001b[0m\u001b[0m\n\u001b[1;32m   1199\u001b[0m             \u001b[0mself\u001b[0m\u001b[0;34m.\u001b[0m\u001b[0m_rules_by_endpoint\u001b[0m\u001b[0;34m.\u001b[0m\u001b[0msetdefault\u001b[0m\u001b[0;34m(\u001b[0m\u001b[0mrule\u001b[0m\u001b[0;34m.\u001b[0m\u001b[0mendpoint\u001b[0m\u001b[0;34m,\u001b[0m \u001b[0;34m[\u001b[0m\u001b[0;34m]\u001b[0m\u001b[0;34m)\u001b[0m\u001b[0;34m.\u001b[0m\u001b[0mappend\u001b[0m\u001b[0;34m(\u001b[0m\u001b[0mrule\u001b[0m\u001b[0;34m)\u001b[0m\u001b[0;34m\u001b[0m\u001b[0m\n",
      "\u001b[0;32m/home/hduser/anaconda/lib/python2.7/site-packages/werkzeug/routing.pyc\u001b[0m in \u001b[0;36mbind\u001b[0;34m(self, map, rebind)\u001b[0m\n\u001b[1;32m    679\u001b[0m         \u001b[0;32mif\u001b[0m \u001b[0mself\u001b[0m\u001b[0;34m.\u001b[0m\u001b[0msubdomain\u001b[0m \u001b[0;32mis\u001b[0m \u001b[0mNone\u001b[0m\u001b[0;34m:\u001b[0m\u001b[0;34m\u001b[0m\u001b[0m\n\u001b[1;32m    680\u001b[0m             \u001b[0mself\u001b[0m\u001b[0;34m.\u001b[0m\u001b[0msubdomain\u001b[0m \u001b[0;34m=\u001b[0m \u001b[0mmap\u001b[0m\u001b[0;34m.\u001b[0m\u001b[0mdefault_subdomain\u001b[0m\u001b[0;34m\u001b[0m\u001b[0m\n\u001b[0;32m--> 681\u001b[0;31m         \u001b[0mself\u001b[0m\u001b[0;34m.\u001b[0m\u001b[0mcompile\u001b[0m\u001b[0;34m(\u001b[0m\u001b[0;34m)\u001b[0m\u001b[0;34m\u001b[0m\u001b[0m\n\u001b[0m\u001b[1;32m    682\u001b[0m \u001b[0;34m\u001b[0m\u001b[0m\n\u001b[1;32m    683\u001b[0m     \u001b[0;32mdef\u001b[0m \u001b[0mget_converter\u001b[0m\u001b[0;34m(\u001b[0m\u001b[0mself\u001b[0m\u001b[0;34m,\u001b[0m \u001b[0mvariable_name\u001b[0m\u001b[0;34m,\u001b[0m \u001b[0mconverter_name\u001b[0m\u001b[0;34m,\u001b[0m \u001b[0margs\u001b[0m\u001b[0;34m,\u001b[0m \u001b[0mkwargs\u001b[0m\u001b[0;34m)\u001b[0m\u001b[0;34m:\u001b[0m\u001b[0;34m\u001b[0m\u001b[0m\n",
      "\u001b[0;32m/home/hduser/anaconda/lib/python2.7/site-packages/werkzeug/routing.pyc\u001b[0m in \u001b[0;36mcompile\u001b[0;34m(self)\u001b[0m\n\u001b[1;32m    729\u001b[0m         \u001b[0mregex_parts\u001b[0m\u001b[0;34m.\u001b[0m\u001b[0mappend\u001b[0m\u001b[0;34m(\u001b[0m\u001b[0;34m'\\\\|'\u001b[0m\u001b[0;34m)\u001b[0m\u001b[0;34m\u001b[0m\u001b[0m\n\u001b[1;32m    730\u001b[0m         \u001b[0mself\u001b[0m\u001b[0;34m.\u001b[0m\u001b[0m_trace\u001b[0m\u001b[0;34m.\u001b[0m\u001b[0mappend\u001b[0m\u001b[0;34m(\u001b[0m\u001b[0;34m(\u001b[0m\u001b[0mFalse\u001b[0m\u001b[0;34m,\u001b[0m \u001b[0;34m'|'\u001b[0m\u001b[0;34m)\u001b[0m\u001b[0;34m)\u001b[0m\u001b[0;34m\u001b[0m\u001b[0m\n\u001b[0;32m--> 731\u001b[0;31m         \u001b[0m_build_regex\u001b[0m\u001b[0;34m(\u001b[0m\u001b[0mself\u001b[0m\u001b[0;34m.\u001b[0m\u001b[0mis_leaf\u001b[0m \u001b[0;32mand\u001b[0m \u001b[0mself\u001b[0m\u001b[0;34m.\u001b[0m\u001b[0mrule\u001b[0m \u001b[0;32mor\u001b[0m \u001b[0mself\u001b[0m\u001b[0;34m.\u001b[0m\u001b[0mrule\u001b[0m\u001b[0;34m.\u001b[0m\u001b[0mrstrip\u001b[0m\u001b[0;34m(\u001b[0m\u001b[0;34m'/'\u001b[0m\u001b[0;34m)\u001b[0m\u001b[0;34m)\u001b[0m\u001b[0;34m\u001b[0m\u001b[0m\n\u001b[0m\u001b[1;32m    732\u001b[0m         \u001b[0;32mif\u001b[0m \u001b[0;32mnot\u001b[0m \u001b[0mself\u001b[0m\u001b[0;34m.\u001b[0m\u001b[0mis_leaf\u001b[0m\u001b[0;34m:\u001b[0m\u001b[0;34m\u001b[0m\u001b[0m\n\u001b[1;32m    733\u001b[0m             \u001b[0mself\u001b[0m\u001b[0;34m.\u001b[0m\u001b[0m_trace\u001b[0m\u001b[0;34m.\u001b[0m\u001b[0mappend\u001b[0m\u001b[0;34m(\u001b[0m\u001b[0;34m(\u001b[0m\u001b[0mFalse\u001b[0m\u001b[0;34m,\u001b[0m \u001b[0;34m'/'\u001b[0m\u001b[0;34m)\u001b[0m\u001b[0;34m)\u001b[0m\u001b[0;34m\u001b[0m\u001b[0m\n",
      "\u001b[0;32m/home/hduser/anaconda/lib/python2.7/site-packages/werkzeug/routing.pyc\u001b[0m in \u001b[0;36m_build_regex\u001b[0;34m(rule)\u001b[0m\n\u001b[1;32m    705\u001b[0m \u001b[0;34m\u001b[0m\u001b[0m\n\u001b[1;32m    706\u001b[0m         \u001b[0;32mdef\u001b[0m \u001b[0m_build_regex\u001b[0m\u001b[0;34m(\u001b[0m\u001b[0mrule\u001b[0m\u001b[0;34m)\u001b[0m\u001b[0;34m:\u001b[0m\u001b[0;34m\u001b[0m\u001b[0m\n\u001b[0;32m--> 707\u001b[0;31m             \u001b[0;32mfor\u001b[0m \u001b[0mconverter\u001b[0m\u001b[0;34m,\u001b[0m \u001b[0marguments\u001b[0m\u001b[0;34m,\u001b[0m \u001b[0mvariable\u001b[0m \u001b[0;32min\u001b[0m \u001b[0mparse_rule\u001b[0m\u001b[0;34m(\u001b[0m\u001b[0mrule\u001b[0m\u001b[0;34m)\u001b[0m\u001b[0;34m:\u001b[0m\u001b[0;34m\u001b[0m\u001b[0m\n\u001b[0m\u001b[1;32m    708\u001b[0m                 \u001b[0;32mif\u001b[0m \u001b[0mconverter\u001b[0m \u001b[0;32mis\u001b[0m \u001b[0mNone\u001b[0m\u001b[0;34m:\u001b[0m\u001b[0;34m\u001b[0m\u001b[0m\n\u001b[1;32m    709\u001b[0m                     \u001b[0mregex_parts\u001b[0m\u001b[0;34m.\u001b[0m\u001b[0mappend\u001b[0m\u001b[0;34m(\u001b[0m\u001b[0mre\u001b[0m\u001b[0;34m.\u001b[0m\u001b[0mescape\u001b[0m\u001b[0;34m(\u001b[0m\u001b[0mvariable\u001b[0m\u001b[0;34m)\u001b[0m\u001b[0;34m)\u001b[0m\u001b[0;34m\u001b[0m\u001b[0m\n",
      "\u001b[0;32m/home/hduser/anaconda/lib/python2.7/site-packages/werkzeug/routing.pyc\u001b[0m in \u001b[0;36mparse_rule\u001b[0;34m(rule)\u001b[0m\n\u001b[1;32m    207\u001b[0m         \u001b[0mremaining\u001b[0m \u001b[0;34m=\u001b[0m \u001b[0mrule\u001b[0m\u001b[0;34m[\u001b[0m\u001b[0mpos\u001b[0m\u001b[0;34m:\u001b[0m\u001b[0;34m]\u001b[0m\u001b[0;34m\u001b[0m\u001b[0m\n\u001b[1;32m    208\u001b[0m         \u001b[0;32mif\u001b[0m \u001b[0;34m'>'\u001b[0m \u001b[0;32min\u001b[0m \u001b[0mremaining\u001b[0m \u001b[0;32mor\u001b[0m \u001b[0;34m'<'\u001b[0m \u001b[0;32min\u001b[0m \u001b[0mremaining\u001b[0m\u001b[0;34m:\u001b[0m\u001b[0;34m\u001b[0m\u001b[0m\n\u001b[0;32m--> 209\u001b[0;31m             \u001b[0;32mraise\u001b[0m \u001b[0mValueError\u001b[0m\u001b[0;34m(\u001b[0m\u001b[0;34m'malformed url rule: %r'\u001b[0m \u001b[0;34m%\u001b[0m \u001b[0mrule\u001b[0m\u001b[0;34m)\u001b[0m\u001b[0;34m\u001b[0m\u001b[0m\n\u001b[0m\u001b[1;32m    210\u001b[0m         \u001b[0;32myield\u001b[0m \u001b[0mNone\u001b[0m\u001b[0;34m,\u001b[0m \u001b[0mNone\u001b[0m\u001b[0;34m,\u001b[0m \u001b[0mremaining\u001b[0m\u001b[0;34m\u001b[0m\u001b[0m\n\u001b[1;32m    211\u001b[0m \u001b[0;34m\u001b[0m\u001b[0m\n",
      "\u001b[0;31mValueError\u001b[0m: malformed url rule: '/<int: user_id>/ratings/<int: movie_id>'"
     ]
    }
   ],
   "source": [
    "if __name__==\"__main__\":\n",
    "    dataset_path='/user/hduser/ml-latest'\n",
    "    app=create_app(sc, dataset_path)\n",
    "    #start webserver\n",
    "    run_server(app)"
   ]
  },
  {
   "cell_type": "code",
   "execution_count": null,
   "metadata": {
    "collapsed": true
   },
   "outputs": [],
   "source": []
  },
  {
   "cell_type": "code",
   "execution_count": null,
   "metadata": {
    "collapsed": true
   },
   "outputs": [],
   "source": []
  }
 ],
 "metadata": {
  "anaconda-cloud": {},
  "kernelspec": {
   "display_name": "Python [conda env:anaconda]",
   "language": "python",
   "name": "conda-env-anaconda-py"
  }
 },
 "nbformat": 4,
 "nbformat_minor": 1
}
